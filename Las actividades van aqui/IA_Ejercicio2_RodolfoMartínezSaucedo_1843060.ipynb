{
  "nbformat": 4,
  "nbformat_minor": 0,
  "metadata": {
    "colab": {
      "name": "IA_Ejercicio2_RodolfoMartínezSaucedo_1843060.ipynb",
      "provenance": []
    },
    "kernelspec": {
      "name": "python3",
      "display_name": "Python 3"
    },
    "language_info": {
      "name": "python"
    }
  },
  "cells": [
    {
      "cell_type": "markdown",
      "metadata": {
        "id": "v1kSN3_g4bzv"
      },
      "source": [
        "###**Act. 3 - Ejercicios Introducción Python, 2da parte**\n",
        "\n",
        "*Rodolfo Martínez Saucedo 1843060*\n",
        "\n",
        "*MarN4 Inteligencia Artificial*\n"
      ]
    },
    {
      "cell_type": "markdown",
      "metadata": {
        "id": "JYIxUeMfjyys"
      },
      "source": [
        "**Ejercicio 1:**\n",
        "\n",
        "1.1 Piensa en 7 comidas diferentes que te gusten. Implementa un programa que pregunte por las 7 comidas, las almacene en una lista y que posteriormente imprima cada una de ellas utilizando uno de los ciclos comentados en clase.\n",
        "\n",
        "1.2 Modifica la primer parte del ejercicio para que imprima cada una de las comidas junto con una oración inicial: \"Una de mis comidas favoritas es [comida1]\"."
      ]
    },
    {
      "cell_type": "code",
      "metadata": {
        "colab": {
          "base_uri": "https://localhost:8080/"
        },
        "id": "Y96jUzUFjZv_",
        "outputId": "3a2bf354-3bad-4c0c-ab97-b9bd318eed1b"
      },
      "source": [
        "com = [] # Lista vacía\n",
        "for i in range(7):\n",
        "    com.append(input(\"Comida que te guste: \")) # Función para agregar a la lista\n",
        "print(\"Comidas: \") \n",
        "for i in com: # For para imprimir\n",
        "    print(i)"
      ],
      "execution_count": 21,
      "outputs": [
        {
          "output_type": "stream",
          "name": "stdout",
          "text": [
            "Comida que te guste: Arroz\n",
            "Comida que te guste: Spaghetti\n",
            "Comida que te guste: Pollo\n",
            "Comida que te guste: Carne\n",
            "Comida que te guste: Atún\n",
            "Comida que te guste: Pozole\n",
            "Comida que te guste: Hamburguesas\n",
            "Comidas: \n",
            "Arroz\n",
            "Spaghetti\n",
            "Pollo\n",
            "Carne\n",
            "Atún\n",
            "Pozole\n",
            "Hamburguesas\n"
          ]
        }
      ]
    },
    {
      "cell_type": "code",
      "metadata": {
        "colab": {
          "base_uri": "https://localhost:8080/"
        },
        "id": "bgkYHRrJD7Us",
        "outputId": "72c51035-9023-411d-be7c-dd70208c5559"
      },
      "source": [
        "com = [] # Lista vacía\n",
        "for i in range(7):\n",
        "    com.append(input(\"Comida que te guste: \")) # Función para agregar a la lista\n",
        "print(\"Comidas: \") \n",
        "for i in com: # For para imprimir\n",
        "    print(\"Una de mis comidas favoritas es \" + i + \".\")"
      ],
      "execution_count": 22,
      "outputs": [
        {
          "output_type": "stream",
          "name": "stdout",
          "text": [
            "Comida que te guste: Arroz\n",
            "Comida que te guste: Spaghetti\n",
            "Comida que te guste: Pollo\n",
            "Comida que te guste: Carne\n",
            "Comida que te guste: Atún\n",
            "Comida que te guste: Pozole\n",
            "Comida que te guste: Hamburguesas\n",
            "Comidas: \n",
            "Una de mis comidas favoritas es Arroz.\n",
            "Una de mis comidas favoritas es Spaghetti.\n",
            "Una de mis comidas favoritas es Pollo.\n",
            "Una de mis comidas favoritas es Carne.\n",
            "Una de mis comidas favoritas es Atún.\n",
            "Una de mis comidas favoritas es Pozole.\n",
            "Una de mis comidas favoritas es Hamburguesas.\n"
          ]
        }
      ]
    },
    {
      "cell_type": "markdown",
      "metadata": {
        "id": "2IAl_tOv7tLd"
      },
      "source": [
        "**Ejercicio 2:**\n",
        "\n",
        "Crear un juego de piedra, papel o tijera de dos jugadores. El programa preguntará por la opción del jugador 1 y la opción del jugador 2 y dará como resultado quien ganó el juego."
      ]
    },
    {
      "cell_type": "code",
      "metadata": {
        "colab": {
          "base_uri": "https://localhost:8080/"
        },
        "id": "hF6wc9bYkTue",
        "outputId": "b54f2b5b-57f8-4e95-c61e-3766523bd5c7"
      },
      "source": [
        "print(\"Piedra, Papel o Tijera\") \n",
        "print(\"Pi = Piedra\") # Se dan las opciones a elegir\n",
        "print(\"Pa = Papel\")\n",
        "print(\"Ti = Tijera\")\n",
        "J1 = input(\"Eliga una opción jugador 1: \") # Se eligen las opciones\n",
        "J2 = input(\"Eliga una opción jugador 2: \")\n",
        "\n",
        "if J1 == \"Pi\" and J2 == \"Pi\": # Con las condiciones dadas se revisa el resultado del juego \n",
        "    print(\"EMPATE\")\n",
        "if J1 == \"Pa\" and J2 == \"Pa\":\n",
        "    print(\"EMPATE\")\n",
        "if J1 == \"Ti\" and J2 == \"Ti\":\n",
        "    print(\"EMPATE\")\n",
        "if J1 == \"Pi\" and J2 == \"Ti\":\n",
        "    print(\"JUGADOR UNO GANA\")\n",
        "if J1 == \"Pa\" and J2 == \"Pi\":\n",
        "    print(\"JUGADOR UNO GANA\")\n",
        "if J1 == \"Ti\" and J2 == \"Pa\":\n",
        "    print(\"JUGADOR UNO GANA\")\n",
        "if J1 == \"Pi\" and J2 == \"Pa\":\n",
        "    print(\"JUGADOR DOS GANA\")\n",
        "if J1 == \"Pa\" and J2 == \"Ti\":\n",
        "    print(\"JUGADOR DOS GANA\")\n",
        "if J1 == \"Ti\" and J2 == \"Pi\":\n",
        "    print(\"JUGADOR DOS GANA\")"
      ],
      "execution_count": 23,
      "outputs": [
        {
          "output_type": "stream",
          "name": "stdout",
          "text": [
            "Piedra, Papel o Tijera\n",
            "Pi = Piedra\n",
            "Pa = Papel\n",
            "Ti = Tijera\n",
            "Eliga una opción jugador 1: Pi\n",
            "Eliga una opción jugador 2: Pi\n",
            "EMPATE\n"
          ]
        }
      ]
    },
    {
      "cell_type": "markdown",
      "metadata": {
        "id": "IhNePufr-H5A"
      },
      "source": [
        "**Ejercicio 3:**\n",
        "\n",
        "Implementar un programa que imprima el siguiente patrón:\n",
        "\n",
        "123456\\\n",
        "12345\\\n",
        "1234\\\n",
        "123\\\n",
        "12\\\n",
        "1\\\n",
        "12\\\n",
        "123\\\n",
        "1234\\\n",
        "12345\\\n",
        "123456"
      ]
    },
    {
      "cell_type": "code",
      "metadata": {
        "colab": {
          "base_uri": "https://localhost:8080/"
        },
        "id": "Ppd3vZHrkqgP",
        "outputId": "cbffc9d1-9b25-4c89-c9ce-fe2433071511"
      },
      "source": [
        "lista = [1, 2, 3, 4, 5, 6] # Se crea una lista con los elementos del patrón\n",
        "print(*lista) # Se imprime cada una de las líneas descritas en el patrón\n",
        "print(*lista[0:5]) # Se utiliza * para que se impriman sin corchetes\n",
        "print(*lista[0:4])\n",
        "print(*lista[0:3])\n",
        "print(*lista[0:2])\n",
        "print(lista[0]) # Esta línea sale sin corchetes al ser un elemento\n",
        "print(*lista[0:2])\n",
        "print(*lista[0:3])\n",
        "print(*lista[0:4])\n",
        "print(*lista[0:5])\n",
        "print(*lista)"
      ],
      "execution_count": 17,
      "outputs": [
        {
          "output_type": "stream",
          "name": "stdout",
          "text": [
            "1 2 3 4 5 6\n",
            "1 2 3 4 5\n",
            "1 2 3 4\n",
            "1 2 3\n",
            "1 2\n",
            "1\n",
            "1 2\n",
            "1 2 3\n",
            "1 2 3 4\n",
            "1 2 3 4 5\n",
            "1 2 3 4 5 6\n"
          ]
        }
      ]
    }
  ]
}