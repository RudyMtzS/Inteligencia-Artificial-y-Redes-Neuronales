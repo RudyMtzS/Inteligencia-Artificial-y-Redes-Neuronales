{
  "nbformat": 4,
  "nbformat_minor": 0,
  "metadata": {
    "colab": {
      "name": "IA_Ejercicio1_RodolfoMartínezSaucedo_1843060.ipynb",
      "provenance": []
    },
    "kernelspec": {
      "name": "python3",
      "display_name": "Python 3"
    },
    "language_info": {
      "name": "python"
    }
  },
  "cells": [
    {
      "cell_type": "markdown",
      "metadata": {
        "id": "v1kSN3_g4bzv"
      },
      "source": [
        "###**Act. 2 - Ejercicios Introducción Python**\n",
        "\n",
        "*Rodolfo Martínez Saucedo 1843060*\n",
        "\n",
        "*MarN4 Inteligencia Artificial*\n",
        "\n",
        "Realizar los siguientes ejercicios en un notebook de google colab y subir su archivo final a su repositorio en GitHub."
      ]
    },
    {
      "cell_type": "markdown",
      "metadata": {
        "id": "mW-VmaR85LDn"
      },
      "source": [
        "**Ejercicio 1:**\n",
        "\n",
        "Crear un programa que pregunte al usuario por su nombre, edad, una frase favorita y autor de la frase favorita. El programa deberá de imprimir un mensaje compuesto por el nombre y edad del usuario diciendo que su frase favorita es la que dió anteriormente y el autor de dicha frase es el nombre previamente dado. Aquí habrá que realizar una concatenación de variables."
      ]
    },
    {
      "cell_type": "code",
      "metadata": {
        "colab": {
          "base_uri": "https://localhost:8080/"
        },
        "id": "ePAhKDlL4Hbh",
        "outputId": "0293a7af-937c-4d3c-9831-210dfdb10b16"
      },
      "source": [
        "# Se utiliza el input para preguntar los datos\n",
        "Nombre = input(\"¿Cómo te llamas? \")\n",
        "Edad = input(\"¿Qué edad tienes? \")\n",
        "Frase = input(\"¿Cuál es tu frase favorita? \")\n",
        "Autor = input(\"¿Quién es el autor de esa frase? \")\n",
        "# Se desarrollan\n",
        "no = \"Me llamo \" + Nombre + \".\"\n",
        "ed = \" Tengo \" + Edad + \".\"\n",
        "fr = \" Mi frase favorita es: \" + Frase + \".\"\n",
        "au = \" El autor de esa frase es \" + Autor + \".\" \n",
        "print(no + ed + fr + au) # Print para imprimir"
      ],
      "execution_count": 12,
      "outputs": [
        {
          "output_type": "stream",
          "name": "stdout",
          "text": [
            "¿Cómo te llamas? Rodolfo Martínez\n",
            "¿Qué edad tienes? 20 años\n",
            "¿Cuál es tu frase favorita? Just do it\n",
            "¿Quién es el autor de esa frase? Nike\n",
            "Me llamo Rodolfo Martínez. Tengo 20 años. Mi frase favorita es: Just do it. El autor de esa frase es Nike.\n"
          ]
        }
      ]
    },
    {
      "cell_type": "markdown",
      "metadata": {
        "id": "2IAl_tOv7tLd"
      },
      "source": [
        "**Ejercicio 2:**\n",
        "\n",
        "Crear un programa que le pida al usuario capturar dos números enteros y dos números flotantes. Después, realizará la suma, resta, multiplicación y división, de ambos pares de números. Como resultado se deberán de obtener 8 valores. Imprimir todos estos reultados."
      ]
    },
    {
      "cell_type": "code",
      "metadata": {
        "colab": {
          "base_uri": "https://localhost:8080/"
        },
        "id": "JCjPLB8571Qw",
        "outputId": "ef68345a-acde-4261-d466-329dad421dc9"
      },
      "source": [
        "x = int(input(\"Escriba un número entero: \")) # Se utiliza input para pedir los números y se convierten a enteros\n",
        "y = int(input(\"Escriba otro número entero diferente de cero: \")) # Se pide un número diferente de cero para no tener errores \n",
        "w = float(input(\"Escriba un número flotante: \")) # Se utiliza input para pedir los números y se convierten a flotantes\n",
        "z = float(input(\"Escribe otro número flotante diferente de cero: \"))\n",
        "# Se hacen las operaciones y se imprimen\n",
        "print(\"Suma de los números enteros: \", x + y)\n",
        "print(\"Resta de los números enteros: \", x - y)\n",
        "print(\"Multiplicación de los números enteros: \", x * y)\n",
        "print(\"División de los números enteros: \", x / y) \n",
        "print(\"Suma de los números flotantes: \", w + z)\n",
        "print(\"Resta de los números flotantes: \", w - z)\n",
        "print(\"Multiplicación de los números flotantes: \", w * z)\n",
        "print(\"División de los números flotantes: \", w / z)"
      ],
      "execution_count": 4,
      "outputs": [
        {
          "output_type": "stream",
          "name": "stdout",
          "text": [
            "Escriba un número entero: 5\n",
            "Escriba otro número entero diferente de cero: 10\n",
            "Escriba un número flotante: 7.0\n",
            "Escribe otro número flotante diferente de cero: 10.2\n",
            "Suma de los números enteros:  15\n",
            "Resta de los números enteros:  -5\n",
            "Multiplicación de los números enteros:  50\n",
            "División de los números enteros:  0.5\n",
            "Suma de los números flotantes:  17.2\n",
            "Resta de los números flotantes:  -3.1999999999999993\n",
            "Multiplicación de los números flotantes:  71.39999999999999\n",
            "División de los números flotantes:  0.6862745098039216\n"
          ]
        }
      ]
    },
    {
      "cell_type": "markdown",
      "metadata": {
        "id": "IhNePufr-H5A"
      },
      "source": [
        "**Ejercicio 3:**\n",
        "\n",
        "Crear un programa que evalúe dos expresiones lógicas con 'and', dos con 'or' y dos con 'not'. Cada expresión deberá hacer uso de operadores de comparación. "
      ]
    },
    {
      "cell_type": "code",
      "metadata": {
        "colab": {
          "base_uri": "https://localhost:8080/"
        },
        "id": "KHykMbg7-Yl6",
        "outputId": "607efdad-bbe3-4b8c-c510-b0121ec1c914"
      },
      "source": [
        "# Se introducen 3 números enteros para compararlos\n",
        "N1 = int(input(\"Escriba el primer número entero: \")) # Se utiliza input para pedir los números y el int para convertirlos\n",
        "N2 = int(input(\"Escriba el segundo número entero: \"))\n",
        "N3 = int(input(\"Escriba el tercer número entero: \"))\n",
        "# Se evaluan las expresiones\n",
        "print(\"N1 es mayor que N2 y que N3: \", N1>N2 and N1>N3)\n",
        "print(\"N1 es mayor que 0 y N3 es diferente de 0: \", N1>0 and N3!=0)\n",
        "print(\"N1 es igual a N2 o N3 es mayor o igual que N2: \", N1==N2 or N3>=N2)\n",
        "print(\"N2 es igual a 7 o N3 es menor que N2 y N2 es mayor que N1: \", N2==7 or (N3<N2 and N2>N1))\n",
        "print(\"N1 no es igual a 5 o a 10: \", not (N1==5 or N1==10))\n",
        "print(\"N2 no es menor que N3: \", not N2<N3)"
      ],
      "execution_count": 9,
      "outputs": [
        {
          "output_type": "stream",
          "name": "stdout",
          "text": [
            "Escriba el primer número entero: 10\n",
            "Escriba el segundo número entero: 7\n",
            "Escriba el tercer número entero: 24\n",
            "N1 es mayor que N2 y que N3:  False\n",
            "N1 es mayor que 0 y N3 es diferente de 0:  True\n",
            "N1 es igual a N2 o N3 es mayor o igual que N2:  True\n",
            "N2 es igual a 7 o N3 es menor que N2 y N2 es mayor que N1:  True\n",
            "N1 no es igual a 5 o a 10:  False\n",
            "N2 no es menor que N3:  False\n"
          ]
        }
      ]
    }
  ]
}