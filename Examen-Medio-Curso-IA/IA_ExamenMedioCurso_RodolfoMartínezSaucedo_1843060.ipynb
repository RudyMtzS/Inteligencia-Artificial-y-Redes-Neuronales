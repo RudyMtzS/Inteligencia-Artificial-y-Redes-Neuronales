{
  "nbformat": 4,
  "nbformat_minor": 0,
  "metadata": {
    "colab": {
      "name": "IA_ExamenMedioCurso_RodolfoMartínezSaucedo_1843060.ipynb",
      "provenance": [],
      "authorship_tag": "ABX9TyOqMKNWIiWFmDejOI119pzt",
      "include_colab_link": true
    },
    "kernelspec": {
      "name": "python3",
      "display_name": "Python 3"
    },
    "language_info": {
      "name": "python"
    }
  },
  "cells": [
    {
      "cell_type": "markdown",
      "metadata": {
        "id": "view-in-github",
        "colab_type": "text"
      },
      "source": [
        "<a href=\"https://colab.research.google.com/github/RudyMtzS/Inteligencia-Artificial-y-Redes-Neuronales/blob/main/Examen-Medio-Curso-IA/IA_ExamenMedioCurso_RodolfoMart%C3%ADnezSaucedo_1843060.ipynb\" target=\"_parent\"><img src=\"https://colab.research.google.com/assets/colab-badge.svg\" alt=\"Open In Colab\"/></a>"
      ]
    },
    {
      "cell_type": "markdown",
      "metadata": {
        "id": "Nm15F6D_GXXX"
      },
      "source": [
        "###**Examen Medio Curso**\n",
        "\n",
        "*Rodolfo Martínez Saucedo 1843060*\n",
        "\n",
        "*MarN4 Inteligencia Artificial*"
      ]
    },
    {
      "cell_type": "markdown",
      "metadata": {
        "id": "fXLgWvTiGqtv"
      },
      "source": [
        "1.1 El usuario dará un número al azar y el código calculará la suma de todos los números desde el 1 hasta el número dado por el usuario. Ejemplo: el usuario dió el número 4, el código deberá de dar como resultado 10.\n",
        "\n",
        "1.2 Dados el inicio y final de un rango de números, guardar ese rango de números en una lista. Después, imprimir los números que son pares en la lista por medio de uno de los ciclos que vimos en clase. Inicio = 6, final = 31"
      ]
    },
    {
      "cell_type": "code",
      "metadata": {
        "colab": {
          "base_uri": "https://localhost:8080/"
        },
        "id": "KjvdvN0eGWuO",
        "outputId": "5804a7bd-9c01-4c0b-df5b-b541a2d2d018"
      },
      "source": [
        "num = int (input(\"Escriba un número entero al azar: \"))\n",
        "sum = 0\n",
        "for i in range(1,num+1,1):\n",
        "  sum = sum + i\n",
        "print(sum)"
      ],
      "execution_count": 6,
      "outputs": [
        {
          "output_type": "stream",
          "name": "stdout",
          "text": [
            "Escriba un número entero al azar: 10\n",
            "55\n"
          ]
        }
      ]
    },
    {
      "cell_type": "code",
      "metadata": {
        "colab": {
          "base_uri": "https://localhost:8080/"
        },
        "id": "aN-WpUW6H6Zn",
        "outputId": "469310b8-dd4c-4331-84de-4b75bf1bbcac"
      },
      "source": [
        "r = list(range(6,32))\n",
        "for i in r:\n",
        "  if i%2 == 0:\n",
        "    print(i)"
      ],
      "execution_count": 7,
      "outputs": [
        {
          "output_type": "stream",
          "name": "stdout",
          "text": [
            "6\n",
            "8\n",
            "10\n",
            "12\n",
            "14\n",
            "16\n",
            "18\n",
            "20\n",
            "22\n",
            "24\n",
            "26\n",
            "28\n",
            "30\n"
          ]
        }
      ]
    }
  ]
}